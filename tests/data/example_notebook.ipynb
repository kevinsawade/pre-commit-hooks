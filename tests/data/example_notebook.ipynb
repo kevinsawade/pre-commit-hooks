{
 "cells": [
  {
   "cell_type": "markdown",
   "metadata": {
    "collapsed": true,
    "pycharm": {
     "name": "#%% md\n"
    }
   },
   "source": [
    "# This is an example notebook\n",
    "\n",
    "This notebook will be used for the clear-ipynb-cells pre-commit hook"
   ]
  },
  {
   "cell_type": "code",
   "execution_count": null,
   "metadata": {},
   "outputs": [],
   "source": [
    "import math\n",
    "\n",
    "def vector_norm(*args):\n",
    "    return math.sqrt(sum(a ** 2 for a in args))\n",
    "\n",
    "vector = [-1, 2, 3, -4, 5]\n",
    "norm = vector_norm(*vector)\n",
    "print(norm)"
   ]
  },
  {
   "cell_type": "code",
   "execution_count": null,
   "metadata": {},
   "outputs": [],
   "source": []
  }
 ],
 "metadata": {
  "language_info": {
   "name": "python"
  }
 },
 "nbformat": 4,
 "nbformat_minor": 1
}
